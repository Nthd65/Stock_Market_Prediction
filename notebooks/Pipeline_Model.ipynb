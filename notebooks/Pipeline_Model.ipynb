{
  "cells": [
    {
      "cell_type": "markdown",
      "metadata": {
        "id": "bHLRqrv67x3a"
      },
      "source": [
        "# 1. Business Understanding & Data Collection"
      ]
    },
    {
      "cell_type": "code",
      "execution_count": 1,
      "metadata": {
        "id": "wAKoIRmq77Ga"
      },
      "outputs": [],
      "source": [
        "#data\n",
        "import yfinance as yf\n",
        "\n",
        "#mapulating data\n",
        "import pandas as pd\n",
        "import numpy as np\n",
        "import matplotlib.pyplot as plt\n",
        "import pandas_datareader as data\n",
        "import seaborn as sns\n",
        "import math\n",
        "\n",
        "#model\n",
        "from sklearn.model_selection import train_test_split\n",
        "from sklearn.preprocessing import RobustScaler, StandardScaler\n",
        "from sklearn.model_selection import TimeSeriesSplit\n",
        "\n",
        "from sklearn.ensemble import RandomForestRegressor, RandomForestClassifier\n",
        "from sklearn.metrics import mean_squared_error, classification_report, mean_absolute_percentage_error, mean_absolute_error, r2_score\n",
        "\n",
        "from sklearn.preprocessing import PolynomialFeatures\n",
        "from sklearn.pipeline import make_pipeline\n",
        "\n",
        "from sklearn.linear_model import LinearRegression\n",
        "from sklearn.svm import SVR\n",
        "from sklearn.neighbors import KNeighborsRegressor\n",
        "from sklearn.tree import DecisionTreeRegressor\n",
        "\n",
        "from xgboost import XGBRegressor"
      ]
    },
    {
      "cell_type": "code",
      "execution_count": 2,
      "metadata": {
        "id": "Ky9-EA7F7_tB"
      },
      "outputs": [],
      "source": [
        "# Các hàm hỗ trợ\n",
        "def moving_average(series: pd.Series, window: int) -> pd.Series:\n",
        "    return series.rolling(window=window).mean()\n",
        "\n",
        "def exponential_moving_average(series: pd.Series, span: int) -> pd.Series:\n",
        "    return series.ewm(span=span, adjust=False).mean()\n",
        "\n",
        "def obv(df: pd.DataFrame) -> pd.Series:\n",
        "    direction = np.sign(df['close'].diff()).fillna(0)\n",
        "    return (direction * df['volume']).cumsum()\n",
        "\n",
        "def force_index(df: pd.DataFrame, span: int = 1) -> pd.Series:\n",
        "    fi = (df['close'] - df['close'].shift(1)) * df['volume']\n",
        "    return fi.ewm(span=span, adjust=False).mean() if span > 1 else fi\n",
        "\n",
        "def vroc(series: pd.Series, window: int = 5) -> pd.Series:\n",
        "    prev = series.shift(window)\n",
        "    return (series - prev) / prev.replace(0, np.nan)\n",
        "\n",
        "def range_and_return(df: pd.DataFrame) -> pd.DataFrame:\n",
        "    price_range = df['high'] - df['low']\n",
        "    daily_return = df['close'].pct_change()\n",
        "    return pd.DataFrame({'Range': price_range, 'Return': daily_return})\n",
        "\n",
        "def volume_momentum(series: pd.Series, window: int = 5) -> pd.Series:\n",
        "    return series - series.shift(window)\n",
        "\n",
        "#Áp dụng các chỉ báo vào DataFrame\n",
        "def custom_feature_func(df: pd.DataFrame, window: int = 20) -> pd.DataFrame:\n",
        "    \"\"\"\n",
        "    Tạo thêm các feature từ volume, giá và thời gian.\n",
        "    \"\"\"\n",
        "    # 1. Feature giá\n",
        "    df['date'] = pd.to_datetime(df['date'])\n",
        "    df['Close_Lag1'] = df['close'].shift(1)\n",
        "    df['Close_Change'] = df['close'].pct_change()\n",
        "    df['Close_MA5'] = moving_average(df['close'], 5)\n",
        "\n",
        "    df['Candle_Body'] = (df['close'] - df['open']).abs()\n",
        "    df['Upper_Shadow'] = df['high'] - df[['close', 'open']].max(axis=1)\n",
        "    df['Lower_Shadow'] = df[['close', 'open']].min(axis=1) - df['low']\n",
        "\n",
        "    # 2. Feature volume cơ bản\n",
        "    df['Volume_MA'] = moving_average(df['volume'], window)\n",
        "    df['Volume_EMA'] = exponential_moving_average(df['volume'], window)\n",
        "    df['Volume_STD'] = df['volume'].rolling(window=window).std()\n",
        "    df['Volume_Momentum'] = volume_momentum(df['volume'], window)\n",
        "    df['VROC'] = vroc(df['volume'], window=window)\n",
        "\n",
        "    # 3. Chỉ báo khác từ volume và giá\n",
        "    df['OBV'] = obv(df)\n",
        "    df['Force_Index'] = force_index(df, span=window)\n",
        "\n",
        "    rr = range_and_return(df)\n",
        "    df['Range'] = rr['Range']\n",
        "    df['Return'] = rr['Return']\n",
        "\n",
        "    # 4. Feature lag và rolling trên volume\n",
        "    df['Volume_Lag1'] = df['volume'].shift(1)\n",
        "    df['Volume_Rolling_Max_30'] = df['volume'].rolling(window=30).max()\n",
        "    df['Volume_Rolling_Mean_30'] = df['volume'].rolling(window=30).mean()\n",
        "    df['Volume_Zscore_30'] = (\n",
        "        (df['volume'] - df['Volume_Rolling_Mean_30']) /\n",
        "        df['volume'].rolling(window=30).std()\n",
        "    )\n",
        "    df['Volume_Percentile_30'] = df['volume'].rolling(window=30).apply(\n",
        "        lambda x: pd.Series(x).rank(pct=True).iloc[-1], raw=False\n",
        "    )# 5. Feature thời gian\n",
        "    df['Day_of_Week'] = df['date'].dt.dayofweek\n",
        "    df['Is_Month_End'] = df['date'].dt.is_month_end.astype(int)\n",
        "    df['Is_Month_Start'] = df['date'].dt.is_month_start.astype(int)\n",
        "\n",
        "    return df\n",
        "\n",
        "\n",
        "def preprocess_data(df: pd.DataFrame) -> pd.DataFrame:\n",
        "    \"\"\"\n",
        "    - Gọi custom_feature_func để tạo toàn bộ feature.\n",
        "    - Loại bỏ cột giá gốc, giữ lại date, volume và các feature mới.\n",
        "    - Xóa NaN và sắp xếp theo date.\n",
        "    \"\"\"\n",
        "    df = df.copy()\n",
        "    df = custom_feature_func(df)\n",
        "    df.drop(['open', 'high', 'low', 'close'], axis=1, inplace=True, errors='ignore')\n",
        "    df.dropna(inplace=True)\n",
        "    df = df.sort_values(by='date', ascending=True).reset_index(drop=True)\n",
        "    return df"
      ]
    },
    {
      "cell_type": "code",
      "execution_count": null,
      "metadata": {},
      "outputs": [],
      "source": []
    },
    {
      "cell_type": "code",
      "execution_count": null,
      "metadata": {
        "id": "1-7uNJXq8QZS"
      },
      "outputs": [],
      "source": [
        "\n",
        "#boxplot\n",
        "def boxplot_features(df):\n",
        "  n_cols = df.shape[1]\n",
        "  n_rows = math.ceil(n_cols / 5)\n",
        "\n",
        "  fig, axes = plt.subplots(n_rows, 5, figsize=(12, 5 * n_rows))\n",
        "  axes = axes.flatten()\n",
        "\n",
        "  for i, col in enumerate(df.columns):\n",
        "      sns.boxplot(y=df[col], ax=axes[i])\n",
        "      axes[i].set_title(col)\n",
        "  for j in range(i + 1, len(axes)):\n",
        "      axes[j].axis('off')\n",
        "\n",
        "  plt.tight_layout()\n",
        "  plt.show()\n",
        "\n",
        "#Histogram\n",
        "def hist_features(df):\n",
        "  n_cols = df.shape[1]\n",
        "  n_rows = math.ceil(n_cols / 5)\n",
        "\n",
        "  fig, axes = plt.subplots(n_rows, 5, figsize=(12, 5 * n_rows))\n",
        "  axes = axes.flatten()\n",
        "\n",
        "  for i, col in enumerate(df.columns):\n",
        "      sns.histplot(df[col], ax=axes[i])\n",
        "      axes[i].set_title(col)\n",
        "  for j in range(i + 1, len(axes)):\n",
        "      axes[j].axis('off')\n",
        "\n",
        "  plt.tight_layout()\n",
        "  plt.show()\n",
        "\n",
        "#Line chart\n",
        "\n",
        "def line_features(df):\n",
        "    df = df.sort_values('date')\n",
        "    n_cols = df.shape[1] - 1\n",
        "    n_rows = math.ceil(n_cols / 5)\n",
        "\n",
        "    fig, axes = plt.subplots(n_rows, 5, figsize=(25, 5 * n_rows))\n",
        "    axes = axes.flatten()\n",
        "\n",
        "    feature_cols = [col for col in df.columns if col != 'date']\n",
        "\n",
        "    for i, col in enumerate(feature_cols):\n",
        "        axes[i].plot(df['date'], df[col])\n",
        "        axes[i].set_title(col)\n",
        "        axes[i].tick_params(axis='x', rotation=45)\n",
        "\n",
        "    # Ẩn subplot thừa\n",
        "    for j in range(i + 1, len(axes)):\n",
        "        axes[j].axis('off')\n",
        "\n",
        "    plt.tight_layout()\n",
        "    plt.show()"
      ]
    },
    {
      "cell_type": "code",
      "execution_count": null,
      "metadata": {
        "colab": {
          "base_uri": "https://localhost:8080/"
        },
        "id": "DZFh1tLx85_5",
        "outputId": "57906543-8015-4529-8338-a915fdc344a8"
      },
      "outputs": [],
      "source": [
        "df = yf.download(\"GC=F\", start=\"2015-1-2\", end=\"2025-5-25\")\n",
        "\n",
        "df = df.reset_index()\n",
        "df.columns = ['date', 'close', 'high',\t'low',\t'open',\t'volume']\n",
        "df = df.sort_values(by='date', ascending=True)"
      ]
    },
    {
      "cell_type": "markdown",
      "metadata": {
        "id": "5mFepGg68dv1"
      },
      "source": [
        "# 2. Data Description & Preprocessing"
      ]
    },
    {
      "cell_type": "code",
      "execution_count": null,
      "metadata": {
        "colab": {
          "base_uri": "https://localhost:8080/"
        },
        "id": "TkoC2B5K8jYg",
        "outputId": "71264896-654a-42a1-c80c-2fcfb8fc1cdd"
      },
      "outputs": [],
      "source": [
        "#df trước xử lý\n",
        "display(df.head())\n",
        "df.info()"
      ]
    },
    {
      "cell_type": "code",
      "execution_count": null,
      "metadata": {
        "colab": {
          "base_uri": "https://localhost:8080/"
        },
        "id": "n4zHTeXEObgA",
        "outputId": "208e0872-abcc-465e-9696-b9f8a1297951"
      },
      "outputs": [],
      "source": [
        "round(df.drop(columns=['date'], axis=1).describe(),3)"
      ]
    },
    {
      "cell_type": "code",
      "execution_count": null,
      "metadata": {
        "colab": {
          "base_uri": "https://localhost:8080/"
        },
        "id": "hQYqHGnb8-2_",
        "outputId": "977e5567-f45a-4335-86d0-c80be3e746e4"
      },
      "outputs": [],
      "source": [
        "#df sau khi xử lý\n",
        "df_model = preprocess_data(df)\n",
        "display(df_model.info())\n",
        "df_model.head()"
      ]
    },
    {
      "cell_type": "code",
      "execution_count": null,
      "metadata": {
        "colab": {
          "base_uri": "https://localhost:8080/"
        },
        "id": "SsX790VfSFS_",
        "outputId": "7c92cbf1-386f-46b1-bab8-4023de2b54dc"
      },
      "outputs": [],
      "source": [
        "#Boxplot\n",
        "fig, axes = plt.subplots(nrows=4, ncols=6, figsize=(18, 12))\n",
        "axes = axes.flatten()\n",
        "\n",
        "for i in range(24):\n",
        "    axes[i].boxplot(df_model.drop(['date'],axis=1).iloc[:, i].dropna())\n",
        "    axes[i].set_title(df_model.drop(['date'],axis=1).columns[i])\n",
        "    axes[i].tick_params(axis='x', labelrotation=45)\n",
        "\n",
        "plt.tight_layout()\n",
        "plt.show()"
      ]
    },
    {
      "cell_type": "markdown",
      "metadata": {
        "id": "A2CdulAQ9g6L"
      },
      "source": [
        "# 3. Data Analysis (Python)"
      ]
    },
    {
      "cell_type": "code",
      "execution_count": null,
      "metadata": {
        "colab": {
          "base_uri": "https://localhost:8080/"
        },
        "id": "0PpCIC6jAsZe",
        "outputId": "2095ba55-4910-45e9-e2b0-4761948804fa"
      },
      "outputs": [],
      "source": [
        "# Thống kê mô tả\n",
        "def describe_data(df):\n",
        "    print(\"== Thông tin DataFrame ==\")\n",
        "    print(df.info())\n",
        "    print(\"\\n== Thống kê mô tả ==\")\n",
        "    display(df.describe().style.background_gradient(cmap='Blues'))\n",
        "    print(\"\\n== Số lượng giá trị bị thiếu ==\")\n",
        "    print(df.isnull().sum())\n",
        "describe_data(df)"
      ]
    },
    {
      "cell_type": "code",
      "execution_count": null,
      "metadata": {
        "colab": {
          "base_uri": "https://localhost:8080/"
        },
        "id": "zcRnjVls1Eta",
        "outputId": "99ba4c07-b08d-4559-9c92-2fecf8a4752e"
      },
      "outputs": [],
      "source": [
        "# Correlation\n",
        "# Chọn các cột cần phân tích\n",
        "cols = ['close', 'open', 'high', 'low', 'volume']\n",
        "correlation_matrix = df[cols].corr(method='pearson')\n",
        "\n",
        "# Làm tròn 2 chữ số\n",
        "correlation_matrix_rounded = correlation_matrix.round(2)\n",
        "\n",
        "# In ra bảng tương quan\n",
        "print(correlation_matrix_rounded)"
      ]
    },
    {
      "cell_type": "code",
      "execution_count": null,
      "metadata": {
        "colab": {
          "base_uri": "https://localhost:8080/"
        },
        "id": "LKAn5JkF2koo",
        "outputId": "b02efc35-ddb5-4b5b-912c-c1048e75c789"
      },
      "outputs": [],
      "source": [
        "plt.figure(figsize=(8, 6))\n",
        "sns.heatmap(correlation_matrix, annot=True, cmap='coolwarm', fmt=\".2f\")\n",
        "plt.title(\"Heatmap tương quan giữa các biến\")\n",
        "plt.show()"
      ]
    },
    {
      "cell_type": "code",
      "execution_count": null,
      "metadata": {
        "colab": {
          "base_uri": "https://localhost:8080/"
        },
        "id": "39c38AFy-ulX",
        "outputId": "a2fd5400-12e2-4219-c2e0-3cecb4fd71ff"
      },
      "outputs": [],
      "source": [
        "# trend bằng đường trung bình động (Moving Average)\n",
        "plt.figure(figsize=(14, 6))\n",
        "plt.plot(df['date'], df['volume'], label='Volume', color='gray', alpha=0.4)\n",
        "plt.plot(df['date'], df['volume'].rolling(window=20).mean(), label='MA20 Volume', color='red')\n",
        "plt.plot(df['date'], df['volume'].rolling(window=50).mean(), label='MA50 Volume', color='green')\n",
        "plt.title(\"Xu hướng khối lượng giao dịch với MA20 & MA50\")\n",
        "plt.xlabel(\"Ngày\")\n",
        "plt.ylabel(\"Khối lượng giao dịch\")\n",
        "plt.legend()\n",
        "plt.xticks(rotation=45)\n",
        "plt.tight_layout()\n",
        "plt.show()"
      ]
    },
    {
      "cell_type": "markdown",
      "metadata": {
        "id": "-1nh2TB-ARqU"
      },
      "source": [
        "# 4. Data Visualization (Advanced)"
      ]
    },
    {
      "cell_type": "code",
      "execution_count": null,
      "metadata": {
        "colab": {
          "base_uri": "https://localhost:8080/",
          "height": 412
        },
        "id": "XWemxRhTDJsL",
        "outputId": "48cca3ba-2d76-4cad-c7db-2f30be12571c"
      },
      "outputs": [],
      "source": [
        "# 1. Histogram - Phân phối volume\n",
        "plt.figure(figsize=(8,4))\n",
        "sns.histplot(df_model['volume'], bins=30, kde=True, color='skyblue')\n",
        "plt.title(\"Phân phối Volume\")\n",
        "plt.xlabel(\"Volume\")\n",
        "plt.ylabel(\"Tần suất\")\n",
        "plt.show()"
      ]
    },
    {
      "cell_type": "code",
      "execution_count": null,
      "metadata": {
        "colab": {
          "base_uri": "https://localhost:8080/",
          "height": 509
        },
        "id": "p3mN_GfYDpJ2",
        "outputId": "0ea4c206-7ba6-48b4-fcb0-92a8bedd6e72"
      },
      "outputs": [],
      "source": [
        "# 2. Line Plot - Biểu đồ Volume theo thời gian\n",
        "plt.figure(figsize=(12,5))\n",
        "plt.plot(df_model['date'], df_model['volume'], color='green')\n",
        "plt.title(\"Volume theo thời gian\")\n",
        "plt.xlabel(\"Ngày\")\n",
        "plt.ylabel(\"Volume\")\n",
        "plt.xticks(rotation=45)\n",
        "plt.show()"
      ]
    },
    {
      "cell_type": "code",
      "execution_count": null,
      "metadata": {
        "colab": {
          "base_uri": "https://localhost:8080/",
          "height": 436
        },
        "id": "YXAglBxJBmVN",
        "outputId": "53e5dc98-3a07-4686-9b86-a3f74bec7bcd"
      },
      "outputs": [],
      "source": [
        "# 3. Bar Chart - Trung bình volume theo ngày trong tuần\n",
        "day_names = ['Thứ 2', 'Thứ 3', 'Thứ 4', 'Thứ 5', 'Thứ 6', 'Thứ 7', 'Chủ nhật']\n",
        "df_model['Day_of_Week_Label'] = df_model['Day_of_Week'].map(dict(enumerate(day_names)))\n",
        "avg_volume = df_model.groupby('Day_of_Week_Label')['volume'].mean()\n",
        "\n",
        "plt.figure(figsize=(8,4))\n",
        "avg_volume.plot(kind='bar', color='orange')\n",
        "plt.title('Volume trung bình theo thứ trong tuần')\n",
        "plt.xlabel('Day of Week')\n",
        "plt.ylabel('Average Volume')\n",
        "plt.show()"
      ]
    },
    {
      "cell_type": "code",
      "execution_count": null,
      "metadata": {
        "colab": {
          "base_uri": "https://localhost:8080/",
          "height": 568
        },
        "id": "nluH25OQCyUc",
        "outputId": "47532f7d-776a-4db5-b3d7-32647f0939cc"
      },
      "outputs": [],
      "source": [
        "# 4. Scatter Plot - Volume vs % thay đổi giá\n",
        "plt.figure(figsize=(8, 6))\n",
        "sns.scatterplot(data=df_model, x='Close_Change', y='volume', alpha=0.5)\n",
        "plt.title('Volume vs % thay đổi giá')\n",
        "plt.xlabel('% Thay đổi giá (Close_Change)')\n",
        "plt.ylabel('Volume giao dịch')\n",
        "plt.grid(True)\n",
        "plt.show()"
      ]
    },
    {
      "cell_type": "code",
      "execution_count": null,
      "metadata": {
        "colab": {
          "base_uri": "https://localhost:8080/",
          "height": 542
        },
        "id": "odgOJyA4HJPV",
        "outputId": "2c8cb9f7-76b2-44f0-e816-0fc457ff6499"
      },
      "outputs": [],
      "source": [
        "# 5. Top 10 ngày có volume cao nhất\n",
        "top10 = df_model.sort_values('volume', ascending=False).head(10)\n",
        "plt.figure(figsize=(10,5))\n",
        "sns.barplot(x=top10['date'].dt.strftime('%Y-%m-%d'),\n",
        "            y=top10['volume'],\n",
        "            color='skyblue')\n",
        "plt.title(\"Top 10 ngày có volume cao nhất\")\n",
        "plt.xlabel(\"Ngày\")\n",
        "plt.ylabel(\"Volume\")\n",
        "plt.xticks(rotation=45)\n",
        "plt.show()"
      ]
    },
    {
      "cell_type": "code",
      "execution_count": null,
      "metadata": {
        "colab": {
          "base_uri": "https://localhost:8080/",
          "height": 372
        },
        "id": "aLz1tlFoHOrQ",
        "outputId": "a8ea9506-ec90-4eaa-f543-6eb96d9c62ce"
      },
      "outputs": [],
      "source": [
        "# 6. Boxplot - Phân bố volume\n",
        "plt.figure(figsize=(6,4))\n",
        "sns.boxplot(y=df_model['volume'])\n",
        "plt.title(\"Phân bố Volume\")\n",
        "plt.ylabel(\"Volume\")\n",
        "plt.show()"
      ]
    },
    {
      "cell_type": "code",
      "execution_count": null,
      "metadata": {
        "colab": {
          "base_uri": "https://localhost:8080/",
          "height": 509
        },
        "id": "iHUMvNh1HsHF",
        "outputId": "599a7c2f-73fa-4f95-a56e-f6fe559a6ce4"
      },
      "outputs": [],
      "source": [
        "# 7. Line Plot: Volume Rolling Mean (30 ngày)\n",
        "plt.figure(figsize=(12,5))\n",
        "plt.plot(df_model['date'], df_model['volume'].rolling(30).mean(), label='Rolling Mean 30 ngày', color='red')\n",
        "plt.title(\"Volume trung bình động (30 ngày)\")\n",
        "plt.xlabel(\"Ngày\")\n",
        "plt.ylabel(\"Volume trung bình\")\n",
        "plt.xticks(rotation=45)\n",
        "plt.legend()\n",
        "plt.show()"
      ]
    },
    {
      "cell_type": "code",
      "execution_count": null,
      "metadata": {
        "colab": {
          "base_uri": "https://localhost:8080/",
          "height": 508
        },
        "id": "92NHi80KGL7z",
        "outputId": "103f34cc-e22f-49c4-dfeb-629d87076850"
      },
      "outputs": [],
      "source": [
        "# 8. Area Plot: Lượng giao dịch tích lũy (OBV)\n",
        "plt.figure(figsize=(12,5))\n",
        "plt.fill_between(df_model['date'], df_model['OBV'], color='purple', alpha=0.5)\n",
        "plt.title(\"On-Balance Volume (OBV)\")\n",
        "plt.xlabel(\"Ngày\")\n",
        "plt.ylabel(\"OBV\")\n",
        "plt.xticks(rotation=45)\n",
        "plt.show()"
      ]
    },
    {
      "cell_type": "code",
      "execution_count": null,
      "metadata": {},
      "outputs": [],
      "source": [
        "print(df.columns)"
      ]
    },
    {
      "cell_type": "code",
      "execution_count": null,
      "metadata": {
        "colab": {
          "base_uri": "https://localhost:8080/"
        },
        "id": "9S3ExIbVV_wZ",
        "outputId": "0c20bc46-f759-4fe6-f01e-193a37e41972"
      },
      "outputs": [],
      "source": [
        "!pip install pywaffle"
      ]
    },
    {
      "cell_type": "code",
      "execution_count": null,
      "metadata": {
        "colab": {
          "base_uri": "https://localhost:8080/",
          "height": 507
        },
        "id": "nS8e1LI3VU0K",
        "outputId": "55ff1e8d-65dc-4591-98c5-0fad70982741"
      },
      "outputs": [],
      "source": [
        "# 9. Waffle Charts - Tỷ lệ số ngày tăng/giảm của giá vàng\n",
        "from pywaffle import Waffle\n",
        "import matplotlib.pyplot as plt\n",
        "\n",
        "total_tiles = 100\n",
        "total_days = len(df) - 1\n",
        "data = {\n",
        "    'Tăng': round((df['Close_Change'] > 0).sum() / total_days * total_tiles),\n",
        "    'Giảm': round((df['Close_Change'] < 0).sum() / total_days * total_tiles),\n",
        "    'Không đổi': total_tiles - (\n",
        "        round((df['Close_Change'] > 0).sum() / total_days * total_tiles) +\n",
        "        round((df['Close_Change'] < 0).sum() / total_days * total_tiles)\n",
        "    )\n",
        "}\n",
        "\n",
        "fig = plt.figure(\n",
        "    FigureClass=Waffle,\n",
        "    rows=10,\n",
        "    values=data,\n",
        "    colors=['#00b300', '#e60000', '#999999'],\n",
        "    title={'label': 'Tỷ lệ ngày Tăng/Giảm Giá Vàng (2015–2025)', 'loc': 'center'},\n",
        "    legend={'loc': 'upper left', 'bbox_to_anchor': (1, 1)},\n",
        "    figsize=(8, 5)\n",
        ")\n",
        "plt.show()\n"
      ]
    },
    {
      "cell_type": "code",
      "execution_count": null,
      "metadata": {
        "colab": {
          "base_uri": "https://localhost:8080/",
          "height": 507
        },
        "id": "cZLYrzMBgwsO",
        "outputId": "eca23e63-46ac-44e5-bead-bbe0d444bae6"
      },
      "outputs": [],
      "source": [
        "df_recent = df_model[df_model['date'] >= pd.Timestamp('2020-01-01')].copy()\n",
        "\n",
        "total_tiles = 100\n",
        "total_days = len(df_recent)\n",
        "\n",
        "data = {\n",
        "    'Tăng': round((df_recent['Close_Change'] > 0).sum() / total_days * total_tiles),\n",
        "    'Giảm': round((df_recent['Close_Change'] < 0).sum() / total_days * total_tiles),\n",
        "    'Không đổi': total_tiles - (\n",
        "        round((df_recent['Close_Change'] > 0).sum() / total_days * total_tiles) +\n",
        "        round((df_recent['Close_Change'] < 0).sum() / total_days * total_tiles)\n",
        "    )\n",
        "}\n",
        "\n",
        "fig = plt.figure(\n",
        "    FigureClass=Waffle,\n",
        "    rows=10,\n",
        "    values=data,\n",
        "    colors=['#00b300', '#e60000', '#999999'],\n",
        "    title={'label': 'Tỷ lệ ngày Tăng/Giảm Giá Vàng (2020–2025)', 'loc': 'center'},\n",
        "    legend={'loc': 'upper left', 'bbox_to_anchor': (1, 1)},\n",
        "    figsize=(8, 5)\n",
        ")\n",
        "plt.show()"
      ]
    },
    {
      "cell_type": "code",
      "execution_count": null,
      "metadata": {
        "colab": {
          "base_uri": "https://localhost:8080/",
          "height": 507
        },
        "id": "4lD6aV94hB7r",
        "outputId": "d4c21374-359a-4093-8384-9de666c442b5"
      },
      "outputs": [],
      "source": [
        "# Lọc dữ liệu từ 2024-01-01 trở đi\n",
        "df_recent = df_model[df_model['date'] >= pd.Timestamp('2024-01-01')].copy()\n",
        "\n",
        "total_tiles = 100\n",
        "total_days = len(df_recent)\n",
        "\n",
        "data = {\n",
        "    'Tăng': round((df_recent['Close_Change'] > 0).sum() / total_days * total_tiles),\n",
        "    'Giảm': round((df_recent['Close_Change'] < 0).sum() / total_days * total_tiles),\n",
        "    'Không đổi': total_tiles - (\n",
        "        round((df_recent['Close_Change'] > 0).sum() / total_days * total_tiles) +\n",
        "        round((df_recent['Close_Change'] < 0).sum() / total_days * total_tiles)\n",
        "    )\n",
        "}\n",
        "\n",
        "fig = plt.figure(\n",
        "    FigureClass=Waffle,\n",
        "    rows=10,\n",
        "    values=data,\n",
        "    colors=['#00b300', '#e60000', '#999999'],\n",
        "    title={'label': 'Tỷ lệ ngày Tăng/Giảm Giá Vàng (2024–2025)', 'loc': 'center'},\n",
        "    legend={'loc': 'upper left', 'bbox_to_anchor': (1, 1)},\n",
        "    figsize=(8, 5)\n",
        ")\n",
        "plt.show()\n"
      ]
    },
    {
      "cell_type": "code",
      "execution_count": null,
      "metadata": {
        "colab": {
          "base_uri": "https://localhost:8080/",
          "height": 499
        },
        "id": "B8u_Y7pEReqh",
        "outputId": "e0ee73a5-c3e0-473f-ec20-56fec8b96c2e"
      },
      "outputs": [],
      "source": [
        "# 10. Scatter - Khối lượng giao dịch vàng theo ngày\n",
        "plt.figure(figsize=(15,5))\n",
        "plt.scatter(df['date'], df['volume'], alpha=0.5, color='green')\n",
        "plt.xlabel('Date')\n",
        "plt.ylabel('Volume')\n",
        "plt.title('Date vs Volume')\n",
        "plt.xticks(rotation=45)\n",
        "plt.grid(True)\n",
        "plt.show()"
      ]
    },
    {
      "cell_type": "markdown",
      "metadata": {
        "id": "ZCblGkM7CT3K"
      },
      "source": [
        "# 5. Chatbot Integration"
      ]
    },
    {
      "cell_type": "code",
      "execution_count": null,
      "metadata": {
        "id": "bjMyg_ndNHPk"
      },
      "outputs": [],
      "source": []
    },
    {
      "cell_type": "markdown",
      "metadata": {
        "id": "uYZeoeLFCdoQ"
      },
      "source": [
        "# 6. Model for Prediction"
      ]
    },
    {
      "cell_type": "code",
      "execution_count": null,
      "metadata": {
        "id": "v74yGIUtNIe9"
      },
      "outputs": [],
      "source": [
        "#Preprocess Data\n",
        "X = df_model.drop(['date', 'volume'], axis=1)\n",
        "y = df_model['volume']\n",
        "\n",
        "#split train test using  Time Series Cross-Validator\n",
        "tscv = TimeSeriesSplit(n_splits=5)\n",
        "split = list(tscv.split(X))\n",
        "train_index, test_index = split[-1]\n",
        "X_train, X_test = X.iloc[train_index], X.iloc[test_index]\n",
        "y_train, y_test = y.iloc[train_index], y.iloc[test_index]\n",
        "\n",
        "#robust scale\n",
        "scaler = RobustScaler()\n",
        "X_train = scaler.fit_transform(X_train)\n",
        "X_test = scaler.transform(X_test)"
      ]
    },
    {
      "cell_type": "markdown",
      "metadata": {
        "id": "PNUloiEhNdn7"
      },
      "source": [
        "##1. Linear Regression"
      ]
    },
    {
      "cell_type": "code",
      "execution_count": null,
      "metadata": {
        "colab": {
          "base_uri": "https://localhost:8080/"
        },
        "id": "sD6rN4vlNYhH",
        "outputId": "5f95c9ad-8c21-45e8-d613-00eda6b36a17"
      },
      "outputs": [],
      "source": [
        "linearR = LinearRegression()\n",
        "linearR.fit(X_train, y_train)\n",
        "y_pred = linearR.predict(X_test)\n",
        "\n",
        "mae = mean_absolute_error(y_test, y_pred)\n",
        "mse = mean_squared_error(y_test, y_pred)\n",
        "rmse = math.sqrt(mse)\n",
        "r2 = r2_score(y_test, y_pred)\n",
        "\n",
        "print(\"MAE:\", mae)\n",
        "print(\"RMSE:\", rmse)\n",
        "print(\"R2:\", r2)"
      ]
    },
    {
      "cell_type": "markdown",
      "metadata": {
        "id": "1IgTE3PBNipU"
      },
      "source": [
        "##2. KNN"
      ]
    },
    {
      "cell_type": "code",
      "execution_count": null,
      "metadata": {
        "colab": {
          "base_uri": "https://localhost:8080/"
        },
        "id": "_9dHjUxUNlgz",
        "outputId": "2d0100a1-d508-41ad-884f-4ab080a71f60"
      },
      "outputs": [],
      "source": [
        "knn = KNeighborsRegressor(n_neighbors=3, p=1, weights='distance')\n",
        "knn.fit(X_train, y_train)\n",
        "y_pred = knn.predict(X_test)\n",
        "\n",
        "mae = mean_absolute_error(y_test, y_pred)\n",
        "mse = mean_squared_error(y_test, y_pred)\n",
        "rmse = math.sqrt(mse)\n",
        "r2 = r2_score(y_test, y_pred)\n",
        "\n",
        "print(\"MAE:\", mae)\n",
        "print(\"RMSE:\", rmse)\n",
        "print(\"R2:\", r2)"
      ]
    },
    {
      "cell_type": "markdown",
      "metadata": {
        "id": "XtZiXp4RNqsM"
      },
      "source": [
        "##3. Random Forest"
      ]
    },
    {
      "cell_type": "code",
      "execution_count": null,
      "metadata": {
        "colab": {
          "base_uri": "https://localhost:8080/"
        },
        "id": "vUeW3OCiNubn",
        "outputId": "1420c6a5-f15a-4c49-fa0f-050bae99ba19"
      },
      "outputs": [],
      "source": [
        "randForest = RandomForestRegressor(max_depth=20, max_features=0.8,\n",
        "                                   min_samples_leaf=2, min_samples_split=2, n_estimators=100,\n",
        "                                   random_state=42)\n",
        "randForest.fit(X_train, y_train)\n",
        "y_pred = randForest.predict(X_test)\n",
        "\n",
        "mae = mean_absolute_error(y_test, y_pred)\n",
        "mse = mean_squared_error(y_test, y_pred)\n",
        "rmse = math.sqrt(mse)\n",
        "r2 = r2_score(y_test, y_pred)\n",
        "\n",
        "print(\"MAE:\", mae)\n",
        "print(\"RMSE:\", rmse)\n",
        "print(\"R2:\", r2)"
      ]
    },
    {
      "cell_type": "markdown",
      "metadata": {
        "id": "PjgM_JNrNxSb"
      },
      "source": [
        "##4. Polymial Regression"
      ]
    },
    {
      "cell_type": "code",
      "execution_count": null,
      "metadata": {
        "colab": {
          "base_uri": "https://localhost:8080/"
        },
        "id": "TEKu9sO0Nw09",
        "outputId": "54c94a0d-4d3b-4ac4-d70a-f88792dd6670"
      },
      "outputs": [],
      "source": [
        "polyR = make_pipeline(PolynomialFeatures(3), LinearRegression())\n",
        "polyR.fit(X_train, y_train)\n",
        "y_pred = polyR.predict(X_test)\n",
        "\n",
        "mae = mean_absolute_error(y_test, y_pred)\n",
        "mse = mean_squared_error(y_test, y_pred)\n",
        "rmse = math.sqrt(mse)\n",
        "r2 = r2_score(y_test, y_pred)\n",
        "\n",
        "print('mae:', mae)\n",
        "print('rmse:', rmse)\n",
        "print('r2:', r2)"
      ]
    },
    {
      "cell_type": "markdown",
      "metadata": {
        "id": "H7EW2TSMN6a7"
      },
      "source": [
        "##5. XGBoost"
      ]
    },
    {
      "cell_type": "code",
      "execution_count": null,
      "metadata": {
        "colab": {
          "base_uri": "https://localhost:8080/"
        },
        "id": "l5w1K2j_N6Ac",
        "outputId": "177d51ba-9b25-4c3b-d62a-c489be5cf51e"
      },
      "outputs": [],
      "source": [
        "xgb = XGBRegressor(\n",
        "    colsample_bytree=1,\n",
        "    learning_rate=0.1,\n",
        "    max_depth=7,\n",
        "    n_estimators=200,\n",
        "    subsample=1,\n",
        "    random_state=42\n",
        ")\n",
        "xgb.fit(X_train, y_train)\n",
        "y_pred = xgb.predict(X_test)\n",
        "\n",
        "mae = mean_absolute_error(y_test, y_pred)\n",
        "mse = mean_squared_error(y_test, y_pred)\n",
        "rmse = math.sqrt(mse)\n",
        "r2 = r2_score(y_test, y_pred)\n",
        "\n",
        "print('mae:', mae)\n",
        "print('rmse:', rmse)\n",
        "print('r2:', r2)"
      ]
    }
  ],
  "metadata": {
    "colab": {
      "collapsed_sections": [
        "ZCblGkM7CT3K",
        "uYZeoeLFCdoQ",
        "PNUloiEhNdn7"
      ],
      "provenance": []
    },
    "kernelspec": {
      "display_name": "llm",
      "language": "python",
      "name": "python3"
    },
    "language_info": {
      "codemirror_mode": {
        "name": "ipython",
        "version": 3
      },
      "file_extension": ".py",
      "mimetype": "text/x-python",
      "name": "python",
      "nbconvert_exporter": "python",
      "pygments_lexer": "ipython3",
      "version": "3.13.2"
    }
  },
  "nbformat": 4,
  "nbformat_minor": 0
}
